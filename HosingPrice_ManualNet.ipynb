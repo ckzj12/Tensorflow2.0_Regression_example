{
  "nbformat": 4,
  "nbformat_minor": 0,
  "metadata": {
    "kernelspec": {
      "display_name": "Python 3",
      "language": "python",
      "name": "python3"
    },
    "language_info": {
      "codemirror_mode": {
        "name": "ipython",
        "version": 3
      },
      "file_extension": ".py",
      "mimetype": "text/x-python",
      "name": "python",
      "nbconvert_exporter": "python",
      "pygments_lexer": "ipython3",
      "version": "3.7.3"
    },
    "colab": {
      "name": "HosingPrice_ManualNet.ipynb",
      "provenance": [],
      "include_colab_link": true
    }
  },
  "cells": [
    {
      "cell_type": "markdown",
      "metadata": {
        "id": "view-in-github",
        "colab_type": "text"
      },
      "source": [
        "<a href=\"https://colab.research.google.com/github/ckzj12/Tensorflow2.0_Regression_example/blob/master/HosingPrice_ManualNet.ipynb\" target=\"_parent\"><img src=\"https://colab.research.google.com/assets/colab-badge.svg\" alt=\"Open In Colab\"/></a>"
      ]
    },
    {
      "cell_type": "markdown",
      "metadata": {
        "id": "ZbLnRJOf4F7a",
        "colab_type": "text"
      },
      "source": [
        "# Tensorflow 2.0 - Custom training example"
      ]
    },
    {
      "cell_type": "code",
      "metadata": {
        "id": "2jKwxfq44F7k",
        "colab_type": "code",
        "colab": {}
      },
      "source": [
        "from __future__ import absolute_import, division, print_function, unicode_literals\n",
        "\n",
        "import pathlib\n",
        "\n",
        "import matplotlib.pyplot as plt\n",
        "import numpy as np\n",
        "import pandas as pd\n",
        "import seaborn as sns"
      ],
      "execution_count": 0,
      "outputs": []
    },
    {
      "cell_type": "markdown",
      "metadata": {
        "id": "b4SPywDJ4F7x",
        "colab_type": "text"
      },
      "source": [
        "Now, import the tensorflow"
      ]
    },
    {
      "cell_type": "markdown",
      "metadata": {
        "id": "z4_YShn24F7z",
        "colab_type": "text"
      },
      "source": [
        "먼저 텐서플로우 라이브러리를 Import 합니다."
      ]
    },
    {
      "cell_type": "code",
      "metadata": {
        "id": "I8inT24U4F71",
        "colab_type": "code",
        "colab": {},
        "outputId": "50258052-37ef-4c96-cecc-8892d679f837"
      },
      "source": [
        "import tensorflow as tf\n",
        "\n",
        "print('Tensorflow verstion : {}'.format(tf.__version__))"
      ],
      "execution_count": 0,
      "outputs": [
        {
          "output_type": "stream",
          "text": [
            "Tensorflow verstion : 2.0.0\n"
          ],
          "name": "stdout"
        }
      ]
    },
    {
      "cell_type": "markdown",
      "metadata": {
        "id": "QKBTWvTu4F79",
        "colab_type": "text"
      },
      "source": [
        "Set the path to the dataset (modify it to your own path)"
      ]
    },
    {
      "cell_type": "markdown",
      "metadata": {
        "id": "HCfbsepx4F7_",
        "colab_type": "text"
      },
      "source": [
        "데이터셋이 저장되어 있는 경로를 지정해줍니다."
      ]
    },
    {
      "cell_type": "code",
      "metadata": {
        "id": "aWOTSuFl4F8B",
        "colab_type": "code",
        "colab": {}
      },
      "source": [
        "dataset_path = \"C:\\\\Users\\\\jaehle\\\\Downloads\\\\Python\\\\ML\\\\HousingPrice_ManualNet\\\\train_reduced.csv\""
      ],
      "execution_count": 0,
      "outputs": []
    },
    {
      "cell_type": "markdown",
      "metadata": {
        "id": "0aBbK_3B4F8I",
        "colab_type": "text"
      },
      "source": [
        "Import data using pandas"
      ]
    },
    {
      "cell_type": "markdown",
      "metadata": {
        "id": "Wq0EshQf4F8K",
        "colab_type": "text"
      },
      "source": [
        "pandas 라이브러리를 이용해서 csv 파일을 import 합니다."
      ]
    },
    {
      "cell_type": "code",
      "metadata": {
        "scrolled": true,
        "id": "x6S74XBd4F8M",
        "colab_type": "code",
        "colab": {}
      },
      "source": [
        "raw_dataset = pd.read_csv(dataset_path)"
      ],
      "execution_count": 0,
      "outputs": []
    },
    {
      "cell_type": "code",
      "metadata": {
        "scrolled": true,
        "id": "akVdBoWT4F8X",
        "colab_type": "code",
        "colab": {},
        "outputId": "f97b87fd-428a-41cd-95ed-5caad9ae8475"
      },
      "source": [
        "dataset = raw_dataset.copy()\n",
        "dataset.pop(\"Id\") # remove the column named \"Id\" since it is just an ID.\n",
        "dataset.tail()"
      ],
      "execution_count": 0,
      "outputs": [
        {
          "output_type": "execute_result",
          "data": {
            "text/html": [
              "<div>\n",
              "<style scoped>\n",
              "    .dataframe tbody tr th:only-of-type {\n",
              "        vertical-align: middle;\n",
              "    }\n",
              "\n",
              "    .dataframe tbody tr th {\n",
              "        vertical-align: top;\n",
              "    }\n",
              "\n",
              "    .dataframe thead th {\n",
              "        text-align: right;\n",
              "    }\n",
              "</style>\n",
              "<table border=\"1\" class=\"dataframe\">\n",
              "  <thead>\n",
              "    <tr style=\"text-align: right;\">\n",
              "      <th></th>\n",
              "      <th>LotArea</th>\n",
              "      <th>OverallQual</th>\n",
              "      <th>OverallCond</th>\n",
              "      <th>YearBuilt</th>\n",
              "      <th>SalePrice</th>\n",
              "    </tr>\n",
              "  </thead>\n",
              "  <tbody>\n",
              "    <tr>\n",
              "      <th>1455</th>\n",
              "      <td>7917</td>\n",
              "      <td>6</td>\n",
              "      <td>5</td>\n",
              "      <td>1999</td>\n",
              "      <td>175000</td>\n",
              "    </tr>\n",
              "    <tr>\n",
              "      <th>1456</th>\n",
              "      <td>13175</td>\n",
              "      <td>6</td>\n",
              "      <td>6</td>\n",
              "      <td>1978</td>\n",
              "      <td>210000</td>\n",
              "    </tr>\n",
              "    <tr>\n",
              "      <th>1457</th>\n",
              "      <td>9042</td>\n",
              "      <td>7</td>\n",
              "      <td>9</td>\n",
              "      <td>1941</td>\n",
              "      <td>266500</td>\n",
              "    </tr>\n",
              "    <tr>\n",
              "      <th>1458</th>\n",
              "      <td>9717</td>\n",
              "      <td>5</td>\n",
              "      <td>6</td>\n",
              "      <td>1950</td>\n",
              "      <td>142125</td>\n",
              "    </tr>\n",
              "    <tr>\n",
              "      <th>1459</th>\n",
              "      <td>9937</td>\n",
              "      <td>5</td>\n",
              "      <td>6</td>\n",
              "      <td>1965</td>\n",
              "      <td>147500</td>\n",
              "    </tr>\n",
              "  </tbody>\n",
              "</table>\n",
              "</div>"
            ],
            "text/plain": [
              "      LotArea  OverallQual  OverallCond  YearBuilt  SalePrice\n",
              "1455     7917            6            5       1999     175000\n",
              "1456    13175            6            6       1978     210000\n",
              "1457     9042            7            9       1941     266500\n",
              "1458     9717            5            6       1950     142125\n",
              "1459     9937            5            6       1965     147500"
            ]
          },
          "metadata": {
            "tags": []
          },
          "execution_count": 5
        }
      ]
    },
    {
      "cell_type": "markdown",
      "metadata": {
        "id": "S6xSbKPm4F8l",
        "colab_type": "text"
      },
      "source": [
        "## Prepare training data"
      ]
    },
    {
      "cell_type": "code",
      "metadata": {
        "id": "Xfu63e-x4F8p",
        "colab_type": "code",
        "colab": {}
      },
      "source": [
        "train_dataset = dataset.sample(frac=0.8,random_state=0)\n",
        "test_dataset = dataset.drop(train_dataset.index)"
      ],
      "execution_count": 0,
      "outputs": []
    },
    {
      "cell_type": "code",
      "metadata": {
        "id": "ipDU_QcK4F8z",
        "colab_type": "code",
        "colab": {},
        "outputId": "2685c1aa-8f43-4168-c7d2-1c24596e5d00"
      },
      "source": [
        "train_stats = train_dataset.describe()\n",
        "#train_stats.pop(\"SalePrice\")\n",
        "train_stats = train_stats.transpose()\n",
        "train_stats\n",
        "#for num, a in enumerate(train_stats['count']):\n",
        "#    if a != 1168:\n",
        "#        print('ID: {}, count: {}'.format(train_dataset.columns[num+1],a))"
      ],
      "execution_count": 0,
      "outputs": [
        {
          "output_type": "execute_result",
          "data": {
            "text/html": [
              "<div>\n",
              "<style scoped>\n",
              "    .dataframe tbody tr th:only-of-type {\n",
              "        vertical-align: middle;\n",
              "    }\n",
              "\n",
              "    .dataframe tbody tr th {\n",
              "        vertical-align: top;\n",
              "    }\n",
              "\n",
              "    .dataframe thead th {\n",
              "        text-align: right;\n",
              "    }\n",
              "</style>\n",
              "<table border=\"1\" class=\"dataframe\">\n",
              "  <thead>\n",
              "    <tr style=\"text-align: right;\">\n",
              "      <th></th>\n",
              "      <th>count</th>\n",
              "      <th>mean</th>\n",
              "      <th>std</th>\n",
              "      <th>min</th>\n",
              "      <th>25%</th>\n",
              "      <th>50%</th>\n",
              "      <th>75%</th>\n",
              "      <th>max</th>\n",
              "    </tr>\n",
              "  </thead>\n",
              "  <tbody>\n",
              "    <tr>\n",
              "      <th>LotArea</th>\n",
              "      <td>1168.0</td>\n",
              "      <td>10549.443493</td>\n",
              "      <td>9906.540386</td>\n",
              "      <td>1477.0</td>\n",
              "      <td>7526.25</td>\n",
              "      <td>9522.5</td>\n",
              "      <td>11649.75</td>\n",
              "      <td>215245.0</td>\n",
              "    </tr>\n",
              "    <tr>\n",
              "      <th>OverallQual</th>\n",
              "      <td>1168.0</td>\n",
              "      <td>6.153253</td>\n",
              "      <td>1.403743</td>\n",
              "      <td>1.0</td>\n",
              "      <td>5.00</td>\n",
              "      <td>6.0</td>\n",
              "      <td>7.00</td>\n",
              "      <td>10.0</td>\n",
              "    </tr>\n",
              "    <tr>\n",
              "      <th>OverallCond</th>\n",
              "      <td>1168.0</td>\n",
              "      <td>5.586473</td>\n",
              "      <td>1.124345</td>\n",
              "      <td>1.0</td>\n",
              "      <td>5.00</td>\n",
              "      <td>5.0</td>\n",
              "      <td>6.00</td>\n",
              "      <td>9.0</td>\n",
              "    </tr>\n",
              "    <tr>\n",
              "      <th>YearBuilt</th>\n",
              "      <td>1168.0</td>\n",
              "      <td>1971.179795</td>\n",
              "      <td>30.936320</td>\n",
              "      <td>1872.0</td>\n",
              "      <td>1951.75</td>\n",
              "      <td>1973.0</td>\n",
              "      <td>2001.00</td>\n",
              "      <td>2010.0</td>\n",
              "    </tr>\n",
              "    <tr>\n",
              "      <th>SalePrice</th>\n",
              "      <td>1168.0</td>\n",
              "      <td>183474.327911</td>\n",
              "      <td>81395.422704</td>\n",
              "      <td>34900.0</td>\n",
              "      <td>130875.00</td>\n",
              "      <td>164995.0</td>\n",
              "      <td>216209.25</td>\n",
              "      <td>755000.0</td>\n",
              "    </tr>\n",
              "  </tbody>\n",
              "</table>\n",
              "</div>"
            ],
            "text/plain": [
              "              count           mean           std      min        25%  \\\n",
              "LotArea      1168.0   10549.443493   9906.540386   1477.0    7526.25   \n",
              "OverallQual  1168.0       6.153253      1.403743      1.0       5.00   \n",
              "OverallCond  1168.0       5.586473      1.124345      1.0       5.00   \n",
              "YearBuilt    1168.0    1971.179795     30.936320   1872.0    1951.75   \n",
              "SalePrice    1168.0  183474.327911  81395.422704  34900.0  130875.00   \n",
              "\n",
              "                  50%        75%       max  \n",
              "LotArea        9522.5   11649.75  215245.0  \n",
              "OverallQual       6.0       7.00      10.0  \n",
              "OverallCond       5.0       6.00       9.0  \n",
              "YearBuilt      1973.0    2001.00    2010.0  \n",
              "SalePrice    164995.0  216209.25  755000.0  "
            ]
          },
          "metadata": {
            "tags": []
          },
          "execution_count": 7
        }
      ]
    },
    {
      "cell_type": "markdown",
      "metadata": {
        "id": "RR8zAg8T4F88",
        "colab_type": "text"
      },
      "source": [
        "Normalize the data (with standard deviation and mean)"
      ]
    },
    {
      "cell_type": "markdown",
      "metadata": {
        "id": "rbC3iCQT4F8-",
        "colab_type": "text"
      },
      "source": [
        "데이터를 정규화 (Normalize) 합니다. 여기서는 표준편차와 평균값을 이용하여 정규화 했습니다."
      ]
    },
    {
      "cell_type": "code",
      "metadata": {
        "id": "tDTrGRHo4F9B",
        "colab_type": "code",
        "colab": {}
      },
      "source": [
        "def norm(x):\n",
        "    #return x\n",
        "    return (x - train_stats['mean']) / train_stats['std']\n",
        "normed_train_data = norm(train_dataset)\n",
        "normed_test_data = norm(test_dataset)"
      ],
      "execution_count": 0,
      "outputs": []
    },
    {
      "cell_type": "markdown",
      "metadata": {
        "id": "mLhqtyte4F9K",
        "colab_type": "text"
      },
      "source": [
        "Set the label (target) data : in this example, it will be 'SalePrice'"
      ]
    },
    {
      "cell_type": "markdown",
      "metadata": {
        "id": "RuBUGm3w4F9M",
        "colab_type": "text"
      },
      "source": [
        "라벨 (타겟) 데이터를 설정합니다. 이 예제에서는 'SalePrice' 열이 라벨이 됩니다."
      ]
    },
    {
      "cell_type": "code",
      "metadata": {
        "id": "kPzSMmEU4F9P",
        "colab_type": "code",
        "colab": {}
      },
      "source": [
        "normed_train_labels = normed_train_data[['SalePrice']]\n",
        "normed_test_labels = normed_test_data[['SalePrice']]"
      ],
      "execution_count": 0,
      "outputs": []
    },
    {
      "cell_type": "code",
      "metadata": {
        "id": "VuMeiQY14F9X",
        "colab_type": "code",
        "colab": {},
        "outputId": "4347397d-456b-4e4a-c7b5-aa29d2460ab2"
      },
      "source": [
        "normed_train_data.tail()"
      ],
      "execution_count": 0,
      "outputs": [
        {
          "output_type": "execute_result",
          "data": {
            "text/html": [
              "<div>\n",
              "<style scoped>\n",
              "    .dataframe tbody tr th:only-of-type {\n",
              "        vertical-align: middle;\n",
              "    }\n",
              "\n",
              "    .dataframe tbody tr th {\n",
              "        vertical-align: top;\n",
              "    }\n",
              "\n",
              "    .dataframe thead th {\n",
              "        text-align: right;\n",
              "    }\n",
              "</style>\n",
              "<table border=\"1\" class=\"dataframe\">\n",
              "  <thead>\n",
              "    <tr style=\"text-align: right;\">\n",
              "      <th></th>\n",
              "      <th>LotArea</th>\n",
              "      <th>OverallQual</th>\n",
              "      <th>OverallCond</th>\n",
              "      <th>YearBuilt</th>\n",
              "      <th>SalePrice</th>\n",
              "    </tr>\n",
              "  </thead>\n",
              "  <tbody>\n",
              "    <tr>\n",
              "      <th>1168</th>\n",
              "      <td>0.320854</td>\n",
              "      <td>-0.109175</td>\n",
              "      <td>1.257200</td>\n",
              "      <td>-1.169493</td>\n",
              "      <td>0.633029</td>\n",
              "    </tr>\n",
              "    <tr>\n",
              "      <th>455</th>\n",
              "      <td>-0.095840</td>\n",
              "      <td>0.603206</td>\n",
              "      <td>0.367794</td>\n",
              "      <td>0.058837</td>\n",
              "      <td>-0.097970</td>\n",
              "    </tr>\n",
              "    <tr>\n",
              "      <th>584</th>\n",
              "      <td>-0.447123</td>\n",
              "      <td>-1.533937</td>\n",
              "      <td>1.257200</td>\n",
              "      <td>-1.169493</td>\n",
              "      <td>-0.620113</td>\n",
              "    </tr>\n",
              "    <tr>\n",
              "      <th>147</th>\n",
              "      <td>-0.105430</td>\n",
              "      <td>0.603206</td>\n",
              "      <td>-0.521612</td>\n",
              "      <td>0.963922</td>\n",
              "      <td>0.479458</td>\n",
              "    </tr>\n",
              "    <tr>\n",
              "      <th>160</th>\n",
              "      <td>0.057594</td>\n",
              "      <td>-0.109175</td>\n",
              "      <td>0.367794</td>\n",
              "      <td>0.414406</td>\n",
              "      <td>-0.257684</td>\n",
              "    </tr>\n",
              "  </tbody>\n",
              "</table>\n",
              "</div>"
            ],
            "text/plain": [
              "       LotArea  OverallQual  OverallCond  YearBuilt  SalePrice\n",
              "1168  0.320854    -0.109175     1.257200  -1.169493   0.633029\n",
              "455  -0.095840     0.603206     0.367794   0.058837  -0.097970\n",
              "584  -0.447123    -1.533937     1.257200  -1.169493  -0.620113\n",
              "147  -0.105430     0.603206    -0.521612   0.963922   0.479458\n",
              "160   0.057594    -0.109175     0.367794   0.414406  -0.257684"
            ]
          },
          "metadata": {
            "tags": []
          },
          "execution_count": 10
        }
      ]
    },
    {
      "cell_type": "code",
      "metadata": {
        "id": "-M7knz_F4F9h",
        "colab_type": "code",
        "colab": {},
        "outputId": "4b771928-bac0-412e-d953-fc644fccf02a"
      },
      "source": [
        "normed_train_labels.tail()"
      ],
      "execution_count": 0,
      "outputs": [
        {
          "output_type": "execute_result",
          "data": {
            "text/html": [
              "<div>\n",
              "<style scoped>\n",
              "    .dataframe tbody tr th:only-of-type {\n",
              "        vertical-align: middle;\n",
              "    }\n",
              "\n",
              "    .dataframe tbody tr th {\n",
              "        vertical-align: top;\n",
              "    }\n",
              "\n",
              "    .dataframe thead th {\n",
              "        text-align: right;\n",
              "    }\n",
              "</style>\n",
              "<table border=\"1\" class=\"dataframe\">\n",
              "  <thead>\n",
              "    <tr style=\"text-align: right;\">\n",
              "      <th></th>\n",
              "      <th>SalePrice</th>\n",
              "    </tr>\n",
              "  </thead>\n",
              "  <tbody>\n",
              "    <tr>\n",
              "      <th>1168</th>\n",
              "      <td>0.633029</td>\n",
              "    </tr>\n",
              "    <tr>\n",
              "      <th>455</th>\n",
              "      <td>-0.097970</td>\n",
              "    </tr>\n",
              "    <tr>\n",
              "      <th>584</th>\n",
              "      <td>-0.620113</td>\n",
              "    </tr>\n",
              "    <tr>\n",
              "      <th>147</th>\n",
              "      <td>0.479458</td>\n",
              "    </tr>\n",
              "    <tr>\n",
              "      <th>160</th>\n",
              "      <td>-0.257684</td>\n",
              "    </tr>\n",
              "  </tbody>\n",
              "</table>\n",
              "</div>"
            ],
            "text/plain": [
              "      SalePrice\n",
              "1168   0.633029\n",
              "455   -0.097970\n",
              "584   -0.620113\n",
              "147    0.479458\n",
              "160   -0.257684"
            ]
          },
          "metadata": {
            "tags": []
          },
          "execution_count": 11
        }
      ]
    },
    {
      "cell_type": "code",
      "metadata": {
        "id": "3J1GpmUs4F9r",
        "colab_type": "code",
        "colab": {}
      },
      "source": [
        "dummy = normed_train_data.pop('SalePrice')\n",
        "dummy = normed_test_data.pop('SalePrice')"
      ],
      "execution_count": 0,
      "outputs": []
    },
    {
      "cell_type": "markdown",
      "metadata": {
        "id": "mSc5G-_J4F91",
        "colab_type": "text"
      },
      "source": [
        "## Build the model"
      ]
    },
    {
      "cell_type": "markdown",
      "metadata": {
        "id": "fKI97TPA4F94",
        "colab_type": "text"
      },
      "source": [
        "Model can easily be built with tf.keras library. <br> In this example, simple feed-forward neural network will be built"
      ]
    },
    {
      "cell_type": "markdown",
      "metadata": {
        "id": "28Z3Zy4b4F97",
        "colab_type": "text"
      },
      "source": [
        "모델은 케라스 라이브러리를 이용해서 쉽게 생성이 가능합니다. <br> 이 예제에서는 간단한 Feed-forward neural network 를 생성해보겠습니다."
      ]
    },
    {
      "cell_type": "code",
      "metadata": {
        "id": "X8YySCDs4F9-",
        "colab_type": "code",
        "colab": {}
      },
      "source": [
        "model = tf.keras.Sequential([\n",
        "        tf.keras.layers.Dense(64, activation='relu', input_shape=[len(normed_train_data.keys())]),\n",
        "        tf.keras.layers.Dense(32, activation='relu'),\n",
        "        tf.keras.layers.Dense(1)\n",
        "          ])"
      ],
      "execution_count": 0,
      "outputs": []
    },
    {
      "cell_type": "markdown",
      "metadata": {
        "id": "Ii7FqHPM4F-H",
        "colab_type": "text"
      },
      "source": [
        "First hidden layer has 64 neurons, and input shapes are designated as 4 (= len(normed_train_data.keys())) <br> Second hidden layer has 32 neurons and it is not necessary to assign the input shape since the keras library will automatically decide the input shape as 64 (based on the number of neurons from previous hidden layer) <br> Lastly, the output layer has only one neuron which will give the prediction of \"SalePrice\"."
      ]
    },
    {
      "cell_type": "markdown",
      "metadata": {
        "id": "828GGDmx4F-I",
        "colab_type": "text"
      },
      "source": [
        "모델을 생성할 때, 첫번째 히든 레이어에는 64개의 뉴런을 생성했고, 인풋의 크기 또한 설정했습니다. (인풋 크기 = 4 (= len(normed_train_data.keys())) <br> \n",
        "두번째 히든 레이어에는 32개의 뉴런을 생성했구요, 여기서는 케라스 라이브러리가 자동으로 이전 히든 레이어의 아웃풋 크기를 이용해서 인풋 크기를 결정하므로 따로 인풋 크기를 설정하지 않았습니다. <br>\n",
        "마지막으로 아웃풋 레이어에는 하나의 뉴런이 있고, 이 뉴런이 \"SalePrice\"를 예측하게 됩니다."
      ]
    },
    {
      "cell_type": "markdown",
      "metadata": {
        "id": "BnU__E3F4F-K",
        "colab_type": "text"
      },
      "source": [
        "We can check the generated model structures with summary() method"
      ]
    },
    {
      "cell_type": "markdown",
      "metadata": {
        "id": "lzpKWcEb4F-M",
        "colab_type": "text"
      },
      "source": [
        "그리고 만들어진 모델은 아래와 같이 summary() 메소드로 확인이 가능합니다."
      ]
    },
    {
      "cell_type": "code",
      "metadata": {
        "id": "GFDrr6bi4F-N",
        "colab_type": "code",
        "colab": {},
        "outputId": "009c812a-3fff-4db7-93ae-0a144b49caa7"
      },
      "source": [
        "model.summary()"
      ],
      "execution_count": 0,
      "outputs": [
        {
          "output_type": "stream",
          "text": [
            "Model: \"sequential\"\n",
            "_________________________________________________________________\n",
            "Layer (type)                 Output Shape              Param #   \n",
            "=================================================================\n",
            "dense (Dense)                (None, 64)                320       \n",
            "_________________________________________________________________\n",
            "dense_1 (Dense)              (None, 32)                2080      \n",
            "_________________________________________________________________\n",
            "dense_2 (Dense)              (None, 1)                 33        \n",
            "=================================================================\n",
            "Total params: 2,433\n",
            "Trainable params: 2,433\n",
            "Non-trainable params: 0\n",
            "_________________________________________________________________\n"
          ],
          "name": "stdout"
        }
      ]
    },
    {
      "cell_type": "markdown",
      "metadata": {
        "id": "4rNs1mu94F-T",
        "colab_type": "text"
      },
      "source": [
        "## Set up the loss"
      ]
    },
    {
      "cell_type": "markdown",
      "metadata": {
        "id": "oJB899kc4F-V",
        "colab_type": "text"
      },
      "source": [
        "Loss can be set by using tf.keras library. For available losses, please have a look at the keras website: https://keras.io/losses/ <br> In here, user can also set up their own loss functions. You can find it in one of my posting about Gradient descent: <br>\n",
        "Even though it is not used, the commented cell below is the example."
      ]
    },
    {
      "cell_type": "markdown",
      "metadata": {
        "id": "TjgFBcVF4F-Y",
        "colab_type": "text"
      },
      "source": [
        "손실함수 또한 케라스 라이브러리를 이용해서 설정이 가능합니다. 케라스 홈페이지에 라이브러리로 설정 가능한 손실함수를 확인하실 수 있습니다. 링크 : https://keras.io/losses/ <br> 유저가 직접 손실 함수를 정의하는 것도 가능한데요, 경사 하강법 (Gradient descent) 포스팅에서 그 예제를 확인하실 수 있습니다. 링크 : <br>\n",
        "이 예제에서 사용되지는 않았지만, 코멘트 처리되어 있는 셀에 있는 것처럼 손실 함수 적용이 가능합니다."
      ]
    },
    {
      "cell_type": "code",
      "metadata": {
        "id": "TtRcurlK4F-a",
        "colab_type": "code",
        "colab": {}
      },
      "source": [
        "loss_object = tf.keras.losses.MeanSquaredError()"
      ],
      "execution_count": 0,
      "outputs": []
    },
    {
      "cell_type": "code",
      "metadata": {
        "id": "ClFUOPOd4F-l",
        "colab_type": "code",
        "colab": {}
      },
      "source": [
        "#def loss_object(y_true, y_pred):\n",
        "#    m = len(y_true)\n",
        "#    return 1/(2*m) * sum((y_true - y_pred) ** 2)"
      ],
      "execution_count": 0,
      "outputs": []
    },
    {
      "cell_type": "markdown",
      "metadata": {
        "id": "aA5_o7z34F-r",
        "colab_type": "text"
      },
      "source": [
        "To use the loss_object defined above, let's define the loss function as follows:"
      ]
    },
    {
      "cell_type": "markdown",
      "metadata": {
        "id": "4V1BZwsE4F-t",
        "colab_type": "text"
      },
      "source": [
        "위에 정의한 loss_object를 이용해 손실함수 값을 구하기 위해 loss 함수를 아래처럼 정의합시다."
      ]
    },
    {
      "cell_type": "code",
      "metadata": {
        "id": "V4i4-r4T4F-u",
        "colab_type": "code",
        "colab": {}
      },
      "source": [
        "def loss(model, inputs, targets):\n",
        "    pred = model(inputs)\n",
        "    return loss_object(y_true=targets, y_pred=pred)"
      ],
      "execution_count": 0,
      "outputs": []
    },
    {
      "cell_type": "markdown",
      "metadata": {
        "id": "agKy6t724F-0",
        "colab_type": "text"
      },
      "source": [
        "## Define grad function"
      ]
    },
    {
      "cell_type": "markdown",
      "metadata": {
        "id": "UKzS0LDr4F-3",
        "colab_type": "text"
      },
      "source": [
        "Define the grad function that returns loss and gradient for a given inputs and targets. <br> In here, the loss function defined above is used."
      ]
    },
    {
      "cell_type": "markdown",
      "metadata": {
        "id": "3RPTV3y24F-5",
        "colab_type": "text"
      },
      "source": [
        "이제 grad 라는 함수를 정의해서, 인풋과 타겟값으로부터 손실 함수 값과 기울기 (gradient)를 받아오도록 합시다. <br> 여기서 위에 정의한 loss 함수가 사용됩니다."
      ]
    },
    {
      "cell_type": "code",
      "metadata": {
        "id": "qnilO1yI4F-6",
        "colab_type": "code",
        "colab": {}
      },
      "source": [
        "def grad(model, inputs, targets):\n",
        "    with tf.GradientTape() as g:\n",
        "        loss_val = loss(model, inputs, targets) \n",
        "    return loss_val, g.gradient(loss_val, model.trainable_variables)"
      ],
      "execution_count": 0,
      "outputs": []
    },
    {
      "cell_type": "markdown",
      "metadata": {
        "id": "MV5BzJ484F-_",
        "colab_type": "text"
      },
      "source": [
        "'tf.GradientTape' is used to calculate gradient. In the example above, gradient of 'loss_val' was recorded. <br> As a result, the gradient of 'loss_val' with respect to 'all the trainable variables' can be calculated with 'g.gradient' <br>\n",
        "Detailed description of tf.GradientTape can be found in here: "
      ]
    },
    {
      "cell_type": "markdown",
      "metadata": {
        "id": "3viUbYn64F_A",
        "colab_type": "text"
      },
      "source": [
        "여기서 'tf.GradientTape'이 gradient 를 구하기 위해 사용되었습니다. 위 예제에서는 'loss_val' 의 gradient가 레코딩 됩니다. <br> 결과적으로 'loss_val'의 gradient 가 모든 훈련 가능한 변수들 (model.trainable_variables) 에 대해 구해지게 됩니다. 이 때 g.gradient 명령어가 사용됩니다. <br>\n",
        "tf.GradientTape 의 자세한 설명은 따로 포스팅해 두었으니 참고해주세요. (포스팅 링크: )"
      ]
    },
    {
      "cell_type": "markdown",
      "metadata": {
        "id": "K1Bs53F54F_B",
        "colab_type": "text"
      },
      "source": [
        "## Optimizer"
      ]
    },
    {
      "cell_type": "markdown",
      "metadata": {
        "id": "X7DoXfxM4F_G",
        "colab_type": "text"
      },
      "source": [
        "Now, we need to set an optimizer to be used during the training. <br> Basically, all the optimizer is performing gradient descent. Each optimizer performes the gradient descent in a different way. <br> You can find all the optimizer available in tf.keras library in this link: https://keras.io/optimizers/"
      ]
    },
    {
      "cell_type": "markdown",
      "metadata": {
        "id": "sQdUhPF_4F_K",
        "colab_type": "text"
      },
      "source": [
        "이제 최적화 기법 (Optimizer) 을 선택해줍니다. <br> 모든 Optimizer들은 기본적으로 Gradient descent 를 수행하게 됩니다. <br>tf.keras 라이브러리에서 사용 가능한 Optimizer 목록은 다음 링크에서 확인하실 수 있습니다. 링크: https://keras.io/optimizers/"
      ]
    },
    {
      "cell_type": "code",
      "metadata": {
        "id": "GQuNxDwq4F_M",
        "colab_type": "code",
        "colab": {}
      },
      "source": [
        "optimizer = tf.keras.optimizers.RMSprop(0.01)"
      ],
      "execution_count": 0,
      "outputs": []
    },
    {
      "cell_type": "markdown",
      "metadata": {
        "id": "ueUn26XH4F_U",
        "colab_type": "text"
      },
      "source": [
        "## Training"
      ]
    },
    {
      "cell_type": "markdown",
      "metadata": {
        "id": "MDrbPGx04F_W",
        "colab_type": "text"
      },
      "source": [
        "Now, we are ready for the training. <br> To train the network, calculate loss and its gradient, then apply the gradient to update the variables (weight and bias). That is all!"
      ]
    },
    {
      "cell_type": "markdown",
      "metadata": {
        "id": "awHOtgMB4F_Z",
        "colab_type": "text"
      },
      "source": [
        "이제 트레이닝만 남았습니다. <br>\n",
        "네트워크를 트레이닝하기 위해서는 손실함수와 기울기를 계산하고, 기울기를 이용해 Weight 와 Bias 를 업데이트 해주면 됩니다."
      ]
    },
    {
      "cell_type": "code",
      "metadata": {
        "id": "rN-ZFWP14F_c",
        "colab_type": "code",
        "colab": {},
        "outputId": "e237fe94-00c9-4255-b513-0e8bf4325e92"
      },
      "source": [
        "train_loss_results = []\n",
        "\n",
        "num_epochs = 1000\n",
        "\n",
        "for epoch in range(num_epochs):\n",
        "    epoch_loss_avg = tf.keras.metrics.Mean()\n",
        "\n",
        "    # Optimize the model\n",
        "    loss_value, grads = grad(model, normed_train_data.values, normed_train_labels.values)\n",
        "    optimizer.apply_gradients(zip(grads, model.trainable_variables))\n",
        "\n",
        "    # loss\n",
        "    epoch_loss_avg(loss_value)  \n",
        "    \n",
        "    # Loss history\n",
        "    train_loss_results.append(epoch_loss_avg.result())\n",
        "\n",
        "    if epoch % 50 == 0:\n",
        "        print(\"Epoch {:03d}: Loss: {:.3f}\".format(epoch,\n",
        "                                                  epoch_loss_avg.result()))"
      ],
      "execution_count": 0,
      "outputs": [
        {
          "output_type": "stream",
          "text": [
            "WARNING:tensorflow:Layer dense is casting an input tensor from dtype float64 to the layer's dtype of float32, which is new behavior in TensorFlow 2.  The layer has dtype float32 because it's dtype defaults to floatx.\n",
            "\n",
            "If you intended to run this layer in float32, you can safely ignore this warning. If in doubt, this warning is likely only an issue if you are porting a TensorFlow 1.X model to TensorFlow 2.\n",
            "\n",
            "To change all layers to have dtype float64 by default, call `tf.keras.backend.set_floatx('float64')`. To change just this layer, pass dtype='float64' to the layer constructor. If you are the author of this layer, you can disable autocasting by passing autocast=False to the base Layer constructor.\n",
            "\n",
            "Epoch 000: Loss: 1.350\n",
            "Epoch 050: Loss: 0.234\n",
            "Epoch 100: Loss: 0.217\n",
            "Epoch 150: Loss: 0.212\n",
            "Epoch 200: Loss: 0.196\n",
            "Epoch 250: Loss: 0.184\n",
            "Epoch 300: Loss: 0.163\n",
            "Epoch 350: Loss: 0.155\n",
            "Epoch 400: Loss: 0.150\n",
            "Epoch 450: Loss: 0.155\n",
            "Epoch 500: Loss: 0.142\n",
            "Epoch 550: Loss: 0.149\n",
            "Epoch 600: Loss: 0.136\n",
            "Epoch 650: Loss: 0.138\n",
            "Epoch 700: Loss: 0.145\n",
            "Epoch 750: Loss: 0.133\n",
            "Epoch 800: Loss: 0.129\n",
            "Epoch 850: Loss: 0.132\n",
            "Epoch 900: Loss: 0.128\n",
            "Epoch 950: Loss: 0.128\n"
          ],
          "name": "stdout"
        }
      ]
    },
    {
      "cell_type": "markdown",
      "metadata": {
        "id": "4D44t9wZ4F_l",
        "colab_type": "text"
      },
      "source": [
        "Let's check the simple learning graph (only including training loss)"
      ]
    },
    {
      "cell_type": "code",
      "metadata": {
        "id": "VrYuE2TE4F_m",
        "colab_type": "code",
        "colab": {},
        "outputId": "f4f8935c-5986-4375-9d05-1dbe1f8d53a6"
      },
      "source": [
        "fig, axes = plt.subplots(1)\n",
        "fig.suptitle('Training Metrics')\n",
        "\n",
        "axes.set_ylabel(\"Loss\")\n",
        "axes.plot(train_loss_results)\n",
        "\n",
        "plt.show()"
      ],
      "execution_count": 0,
      "outputs": [
        {
          "output_type": "display_data",
          "data": {
            "image/png": "[encoded data removed]",
            "text/plain": [
              "<Figure size 432x288 with 1 Axes>"
            ]
          },
          "metadata": {
            "tags": [],
            "needs_background": "light"
          }
        }
      ]
    },
    {
      "cell_type": "markdown",
      "metadata": {
        "id": "5xT2TMQw4F_s",
        "colab_type": "text"
      },
      "source": [
        "Let's check the accuracy for test set."
      ]
    },
    {
      "cell_type": "code",
      "metadata": {
        "id": "gWWEIUZo4F_t",
        "colab_type": "code",
        "colab": {},
        "outputId": "0346906f-f146-459d-b7e1-5ca7bec5ddf0"
      },
      "source": [
        "test_predictions = model.predict(normed_test_data).flatten()\n",
        "training_predictions = model.predict(normed_train_data).flatten()\n",
        "\n",
        "a = plt.axes(aspect='equal')\n",
        "plt.scatter(normed_test_labels, test_predictions)\n",
        "plt.scatter(normed_train_labels, training_predictions, marker='.')\n",
        "plt.xlabel('True Values [Sale Price - Normalized]')\n",
        "plt.ylabel('Predictions [Sale Price - Normalized]')\n",
        "lims = [-10,10]\n",
        "plt.xlim(lims)\n",
        "plt.ylim(lims)\n",
        "_ = plt.plot(lims, lims)"
      ],
      "execution_count": 0,
      "outputs": [
        {
          "output_type": "display_data",
          "data": {
            "image/png": "[encoded data removed]",
            "text/plain": [
              "<Figure size 432x288 with 1 Axes>"
            ]
          },
          "metadata": {
            "tags": [],
            "needs_background": "light"
          }
        }
      ]
    },
    {
      "cell_type": "markdown",
      "metadata": {
        "id": "IvNqGGv84F_y",
        "colab_type": "text"
      },
      "source": [
        "As we can see, the prediction is not so accurate. Maybe because of overfitting or too small number of features were used for the prediction. <br> At least, we could check the network works."
      ]
    },
    {
      "cell_type": "markdown",
      "metadata": {
        "id": "zgj0d3y84F_0",
        "colab_type": "text"
      },
      "source": [
        "네트워크로 예측한 값의 정확도가 그리 좋지는 않네요. 오버피팅 + 적은 수의 Feature 개수 때문인 것으로 생각됩니다."
      ]
    }
  ]
}